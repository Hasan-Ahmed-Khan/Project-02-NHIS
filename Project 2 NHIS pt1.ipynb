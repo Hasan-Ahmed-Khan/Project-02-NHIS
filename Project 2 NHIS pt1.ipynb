{
 "cells": [
  {
   "cell_type": "markdown",
   "id": "69e5dddd-a652-45a6-8f52-3ce089a2c13e",
   "metadata": {},
   "source": [
    "# Importing libraries"
   ]
  },
  {
   "cell_type": "code",
   "execution_count": 1,
   "id": "2ce3824e-2f39-4839-b76a-3625b7cc71da",
   "metadata": {},
   "outputs": [],
   "source": [
    "import pandas as pd\n",
    "import numpy as np\n",
    "import matplotlib.pyplot as plt\n",
    "import seaborn as sns"
   ]
  },
  {
   "cell_type": "markdown",
   "id": "1587a1ee-7c89-4b89-afd9-46b41c39672a",
   "metadata": {},
   "source": [
    "# Load and display dataset_1"
   ]
  },
  {
   "cell_type": "code",
   "execution_count": 2,
   "id": "6a4cbce1-f237-4fbf-828c-ceeb18fdc709",
   "metadata": {},
   "outputs": [
    {
     "data": {
      "text/html": [
       "<div>\n",
       "<style scoped>\n",
       "    .dataframe tbody tr th:only-of-type {\n",
       "        vertical-align: middle;\n",
       "    }\n",
       "\n",
       "    .dataframe tbody tr th {\n",
       "        vertical-align: top;\n",
       "    }\n",
       "\n",
       "    .dataframe thead th {\n",
       "        text-align: right;\n",
       "    }\n",
       "</style>\n",
       "<table border=\"1\" class=\"dataframe\">\n",
       "  <thead>\n",
       "    <tr style=\"text-align: right;\">\n",
       "      <th></th>\n",
       "      <th>instant</th>\n",
       "      <th>dteday</th>\n",
       "      <th>season</th>\n",
       "      <th>yr</th>\n",
       "      <th>mnth</th>\n",
       "      <th>hr</th>\n",
       "      <th>holiday</th>\n",
       "      <th>weekday</th>\n",
       "      <th>weathersit</th>\n",
       "      <th>temp</th>\n",
       "    </tr>\n",
       "  </thead>\n",
       "  <tbody>\n",
       "    <tr>\n",
       "      <th>0</th>\n",
       "      <td>1</td>\n",
       "      <td>01-01-2011</td>\n",
       "      <td>1</td>\n",
       "      <td>0</td>\n",
       "      <td>1</td>\n",
       "      <td>0</td>\n",
       "      <td>False</td>\n",
       "      <td>6</td>\n",
       "      <td>1</td>\n",
       "      <td>0.24</td>\n",
       "    </tr>\n",
       "    <tr>\n",
       "      <th>1</th>\n",
       "      <td>2</td>\n",
       "      <td>01-01-2011</td>\n",
       "      <td>1</td>\n",
       "      <td>0</td>\n",
       "      <td>1</td>\n",
       "      <td>1</td>\n",
       "      <td>False</td>\n",
       "      <td>6</td>\n",
       "      <td>1</td>\n",
       "      <td>0.22</td>\n",
       "    </tr>\n",
       "    <tr>\n",
       "      <th>2</th>\n",
       "      <td>3</td>\n",
       "      <td>01-01-2011</td>\n",
       "      <td>1</td>\n",
       "      <td>0</td>\n",
       "      <td>1</td>\n",
       "      <td>2</td>\n",
       "      <td>False</td>\n",
       "      <td>6</td>\n",
       "      <td>1</td>\n",
       "      <td>0.22</td>\n",
       "    </tr>\n",
       "    <tr>\n",
       "      <th>3</th>\n",
       "      <td>4</td>\n",
       "      <td>01-01-2011</td>\n",
       "      <td>1</td>\n",
       "      <td>0</td>\n",
       "      <td>1</td>\n",
       "      <td>3</td>\n",
       "      <td>False</td>\n",
       "      <td>6</td>\n",
       "      <td>1</td>\n",
       "      <td>0.24</td>\n",
       "    </tr>\n",
       "    <tr>\n",
       "      <th>4</th>\n",
       "      <td>5</td>\n",
       "      <td>01-01-2011</td>\n",
       "      <td>1</td>\n",
       "      <td>0</td>\n",
       "      <td>1</td>\n",
       "      <td>4</td>\n",
       "      <td>False</td>\n",
       "      <td>6</td>\n",
       "      <td>1</td>\n",
       "      <td>0.24</td>\n",
       "    </tr>\n",
       "    <tr>\n",
       "      <th>...</th>\n",
       "      <td>...</td>\n",
       "      <td>...</td>\n",
       "      <td>...</td>\n",
       "      <td>...</td>\n",
       "      <td>...</td>\n",
       "      <td>...</td>\n",
       "      <td>...</td>\n",
       "      <td>...</td>\n",
       "      <td>...</td>\n",
       "      <td>...</td>\n",
       "    </tr>\n",
       "    <tr>\n",
       "      <th>605</th>\n",
       "      <td>606</td>\n",
       "      <td>28-01-2011</td>\n",
       "      <td>1</td>\n",
       "      <td>0</td>\n",
       "      <td>1</td>\n",
       "      <td>11</td>\n",
       "      <td>False</td>\n",
       "      <td>5</td>\n",
       "      <td>3</td>\n",
       "      <td>0.18</td>\n",
       "    </tr>\n",
       "    <tr>\n",
       "      <th>606</th>\n",
       "      <td>607</td>\n",
       "      <td>28-01-2011</td>\n",
       "      <td>1</td>\n",
       "      <td>0</td>\n",
       "      <td>1</td>\n",
       "      <td>12</td>\n",
       "      <td>False</td>\n",
       "      <td>5</td>\n",
       "      <td>3</td>\n",
       "      <td>0.18</td>\n",
       "    </tr>\n",
       "    <tr>\n",
       "      <th>607</th>\n",
       "      <td>608</td>\n",
       "      <td>28-01-2011</td>\n",
       "      <td>1</td>\n",
       "      <td>0</td>\n",
       "      <td>1</td>\n",
       "      <td>13</td>\n",
       "      <td>False</td>\n",
       "      <td>5</td>\n",
       "      <td>3</td>\n",
       "      <td>0.18</td>\n",
       "    </tr>\n",
       "    <tr>\n",
       "      <th>608</th>\n",
       "      <td>609</td>\n",
       "      <td>28-01-2011</td>\n",
       "      <td>1</td>\n",
       "      <td>0</td>\n",
       "      <td>1</td>\n",
       "      <td>14</td>\n",
       "      <td>False</td>\n",
       "      <td>5</td>\n",
       "      <td>3</td>\n",
       "      <td>0.22</td>\n",
       "    </tr>\n",
       "    <tr>\n",
       "      <th>609</th>\n",
       "      <td>610</td>\n",
       "      <td>28-01-2011</td>\n",
       "      <td>1</td>\n",
       "      <td>0</td>\n",
       "      <td>1</td>\n",
       "      <td>15</td>\n",
       "      <td>False</td>\n",
       "      <td>5</td>\n",
       "      <td>2</td>\n",
       "      <td>0.20</td>\n",
       "    </tr>\n",
       "  </tbody>\n",
       "</table>\n",
       "<p>610 rows × 10 columns</p>\n",
       "</div>"
      ],
      "text/plain": [
       "     instant      dteday  season  yr  mnth  hr  holiday  weekday  weathersit  \\\n",
       "0          1  01-01-2011       1   0     1   0    False        6           1   \n",
       "1          2  01-01-2011       1   0     1   1    False        6           1   \n",
       "2          3  01-01-2011       1   0     1   2    False        6           1   \n",
       "3          4  01-01-2011       1   0     1   3    False        6           1   \n",
       "4          5  01-01-2011       1   0     1   4    False        6           1   \n",
       "..       ...         ...     ...  ..   ...  ..      ...      ...         ...   \n",
       "605      606  28-01-2011       1   0     1  11    False        5           3   \n",
       "606      607  28-01-2011       1   0     1  12    False        5           3   \n",
       "607      608  28-01-2011       1   0     1  13    False        5           3   \n",
       "608      609  28-01-2011       1   0     1  14    False        5           3   \n",
       "609      610  28-01-2011       1   0     1  15    False        5           2   \n",
       "\n",
       "     temp  \n",
       "0    0.24  \n",
       "1    0.22  \n",
       "2    0.22  \n",
       "3    0.24  \n",
       "4    0.24  \n",
       "..    ...  \n",
       "605  0.18  \n",
       "606  0.18  \n",
       "607  0.18  \n",
       "608  0.22  \n",
       "609  0.20  \n",
       "\n",
       "[610 rows x 10 columns]"
      ]
     },
     "execution_count": 2,
     "metadata": {},
     "output_type": "execute_result"
    }
   ],
   "source": [
    "df1 = pd.read_csv('dataset_1.csv')\n",
    "df1"
   ]
  },
  {
   "cell_type": "markdown",
   "id": "866c690b-729a-4afb-9570-9fc45d492642",
   "metadata": {},
   "source": [
    "# Check for null values and data types of dataset_1"
   ]
  },
  {
   "cell_type": "code",
   "execution_count": 3,
   "id": "fff0fe85-f25d-4889-8884-51b145a8ebe9",
   "metadata": {},
   "outputs": [
    {
     "name": "stdout",
     "output_type": "stream",
     "text": [
      "<class 'pandas.core.frame.DataFrame'>\n",
      "RangeIndex: 610 entries, 0 to 609\n",
      "Data columns (total 10 columns):\n",
      " #   Column      Non-Null Count  Dtype  \n",
      "---  ------      --------------  -----  \n",
      " 0   instant     610 non-null    int64  \n",
      " 1   dteday      610 non-null    object \n",
      " 2   season      610 non-null    int64  \n",
      " 3   yr          610 non-null    int64  \n",
      " 4   mnth        610 non-null    int64  \n",
      " 5   hr          610 non-null    int64  \n",
      " 6   holiday     610 non-null    bool   \n",
      " 7   weekday     610 non-null    int64  \n",
      " 8   weathersit  610 non-null    int64  \n",
      " 9   temp        610 non-null    float64\n",
      "dtypes: bool(1), float64(1), int64(7), object(1)\n",
      "memory usage: 43.6+ KB\n"
     ]
    }
   ],
   "source": [
    "df1.info()"
   ]
  },
  {
   "cell_type": "markdown",
   "id": "f0695506-ae71-4b32-b6e9-eeb68f3bcf61",
   "metadata": {},
   "source": [
    "### No null values found"
   ]
  },
  {
   "cell_type": "markdown",
   "id": "6733e7fe-e382-4a3a-9ed7-fd4c6beb9078",
   "metadata": {},
   "source": [
    "# Convert dteday column datatype from object to datetime datatype"
   ]
  },
  {
   "cell_type": "code",
   "execution_count": 4,
   "id": "443d22a6-92b5-401e-812a-b73560f5c7d6",
   "metadata": {},
   "outputs": [],
   "source": [
    "df1['dteday'] = pd.to_datetime(df1['dteday'], format='%d-%m-%Y')"
   ]
  },
  {
   "cell_type": "code",
   "execution_count": 5,
   "id": "7d7780e6-b77e-4e8a-aba3-edc8013d9f82",
   "metadata": {},
   "outputs": [
    {
     "data": {
      "text/plain": [
       "instant                int64\n",
       "dteday        datetime64[ns]\n",
       "season                 int64\n",
       "yr                     int64\n",
       "mnth                   int64\n",
       "hr                     int64\n",
       "holiday                 bool\n",
       "weekday                int64\n",
       "weathersit             int64\n",
       "temp                 float64\n",
       "dtype: object"
      ]
     },
     "execution_count": 5,
     "metadata": {},
     "output_type": "execute_result"
    }
   ],
   "source": [
    "df1.dtypes"
   ]
  },
  {
   "cell_type": "markdown",
   "id": "bcf71749-4a4c-4adc-af22-f1cfec15d3e3",
   "metadata": {},
   "source": [
    "# Check for any duplicate values in dataset_!\n"
   ]
  },
  {
   "cell_type": "code",
   "execution_count": 6,
   "id": "ebbccf47-24a1-4da5-b74d-5a7212847aff",
   "metadata": {},
   "outputs": [
    {
     "data": {
      "text/html": [
       "<div>\n",
       "<style scoped>\n",
       "    .dataframe tbody tr th:only-of-type {\n",
       "        vertical-align: middle;\n",
       "    }\n",
       "\n",
       "    .dataframe tbody tr th {\n",
       "        vertical-align: top;\n",
       "    }\n",
       "\n",
       "    .dataframe thead th {\n",
       "        text-align: right;\n",
       "    }\n",
       "</style>\n",
       "<table border=\"1\" class=\"dataframe\">\n",
       "  <thead>\n",
       "    <tr style=\"text-align: right;\">\n",
       "      <th></th>\n",
       "      <th>instant</th>\n",
       "      <th>dteday</th>\n",
       "      <th>season</th>\n",
       "      <th>yr</th>\n",
       "      <th>mnth</th>\n",
       "      <th>hr</th>\n",
       "      <th>holiday</th>\n",
       "      <th>weekday</th>\n",
       "      <th>weathersit</th>\n",
       "      <th>temp</th>\n",
       "    </tr>\n",
       "  </thead>\n",
       "  <tbody>\n",
       "  </tbody>\n",
       "</table>\n",
       "</div>"
      ],
      "text/plain": [
       "Empty DataFrame\n",
       "Columns: [instant, dteday, season, yr, mnth, hr, holiday, weekday, weathersit, temp]\n",
       "Index: []"
      ]
     },
     "execution_count": 6,
     "metadata": {},
     "output_type": "execute_result"
    }
   ],
   "source": [
    "df1[df1.duplicated()]"
   ]
  },
  {
   "cell_type": "markdown",
   "id": "0e373d8c-ef47-4d13-99ee-9c56fe901014",
   "metadata": {},
   "source": [
    "### No duplicate values found"
   ]
  },
  {
   "cell_type": "markdown",
   "id": "95c481d4-2aec-4ecb-be66-11b93d50f7f1",
   "metadata": {},
   "source": [
    "# Verify changes made to dataset_1 and check if data and values are accurate"
   ]
  },
  {
   "cell_type": "code",
   "execution_count": 7,
   "id": "686ad5c7-7e8f-48e9-b113-0ce56931fdfc",
   "metadata": {},
   "outputs": [
    {
     "name": "stdout",
     "output_type": "stream",
     "text": [
      "<class 'pandas.core.frame.DataFrame'>\n",
      "RangeIndex: 610 entries, 0 to 609\n",
      "Data columns (total 10 columns):\n",
      " #   Column      Non-Null Count  Dtype         \n",
      "---  ------      --------------  -----         \n",
      " 0   instant     610 non-null    int64         \n",
      " 1   dteday      610 non-null    datetime64[ns]\n",
      " 2   season      610 non-null    int64         \n",
      " 3   yr          610 non-null    int64         \n",
      " 4   mnth        610 non-null    int64         \n",
      " 5   hr          610 non-null    int64         \n",
      " 6   holiday     610 non-null    bool          \n",
      " 7   weekday     610 non-null    int64         \n",
      " 8   weathersit  610 non-null    int64         \n",
      " 9   temp        610 non-null    float64       \n",
      "dtypes: bool(1), datetime64[ns](1), float64(1), int64(7)\n",
      "memory usage: 43.6 KB\n"
     ]
    }
   ],
   "source": [
    "df1.info()"
   ]
  },
  {
   "cell_type": "markdown",
   "id": "9cca2424-721c-4370-b764-60441f259b8a",
   "metadata": {},
   "source": [
    "# Perform Data Visualisation"
   ]
  },
  {
   "cell_type": "code",
   "execution_count": 8,
   "id": "890bfbf8-08d3-4bf0-be9a-9b22c25b65f1",
   "metadata": {},
   "outputs": [
    {
     "data": {
      "image/png": "[encoded data removed]",
      "text/plain": [
       "<Figure size 800x500 with 1 Axes>"
      ]
     },
     "metadata": {},
     "output_type": "display_data"
    }
   ],
   "source": [
    "plt.figure(figsize=(8, 5))\n",
    "sns.histplot(df1['temp'], bins=20, kde=True, color='blue')\n",
    "plt.title('Temperature Distribution')\n",
    "plt.xlabel('Temperature')\n",
    "plt.ylabel('Frequency')\n",
    "plt.show()"
   ]
  },
  {
   "cell_type": "markdown",
   "id": "4339ad3a-70e1-4264-9f66-92494d2751a1",
   "metadata": {},
   "source": [
    "# Load and display dataset_2"
   ]
  },
  {
   "cell_type": "code",
   "execution_count": 9,
   "id": "c1da220e-fe66-45bb-ac6a-edd0f5114dd0",
   "metadata": {},
   "outputs": [
    {
     "data": {
      "text/html": [
       "<div>\n",
       "<style scoped>\n",
       "    .dataframe tbody tr th:only-of-type {\n",
       "        vertical-align: middle;\n",
       "    }\n",
       "\n",
       "    .dataframe tbody tr th {\n",
       "        vertical-align: top;\n",
       "    }\n",
       "\n",
       "    .dataframe thead th {\n",
       "        text-align: right;\n",
       "    }\n",
       "</style>\n",
       "<table border=\"1\" class=\"dataframe\">\n",
       "  <thead>\n",
       "    <tr style=\"text-align: right;\">\n",
       "      <th></th>\n",
       "      <th>Unnamed: 0</th>\n",
       "      <th>instant</th>\n",
       "      <th>atemp</th>\n",
       "      <th>hum</th>\n",
       "      <th>windspeed</th>\n",
       "      <th>casual</th>\n",
       "      <th>registered</th>\n",
       "      <th>cnt</th>\n",
       "    </tr>\n",
       "  </thead>\n",
       "  <tbody>\n",
       "    <tr>\n",
       "      <th>0</th>\n",
       "      <td>0</td>\n",
       "      <td>1</td>\n",
       "      <td>0.2879</td>\n",
       "      <td>0.81</td>\n",
       "      <td>0.0000</td>\n",
       "      <td>3</td>\n",
       "      <td>13</td>\n",
       "      <td>16</td>\n",
       "    </tr>\n",
       "    <tr>\n",
       "      <th>1</th>\n",
       "      <td>1</td>\n",
       "      <td>2</td>\n",
       "      <td>0.2727</td>\n",
       "      <td>0.80</td>\n",
       "      <td>0.0000</td>\n",
       "      <td>8</td>\n",
       "      <td>32</td>\n",
       "      <td>40</td>\n",
       "    </tr>\n",
       "    <tr>\n",
       "      <th>2</th>\n",
       "      <td>2</td>\n",
       "      <td>3</td>\n",
       "      <td>0.2727</td>\n",
       "      <td>0.80</td>\n",
       "      <td>0.0000</td>\n",
       "      <td>5</td>\n",
       "      <td>27</td>\n",
       "      <td>32</td>\n",
       "    </tr>\n",
       "    <tr>\n",
       "      <th>3</th>\n",
       "      <td>3</td>\n",
       "      <td>4</td>\n",
       "      <td>0.2879</td>\n",
       "      <td>0.75</td>\n",
       "      <td>0.0000</td>\n",
       "      <td>3</td>\n",
       "      <td>10</td>\n",
       "      <td>13</td>\n",
       "    </tr>\n",
       "    <tr>\n",
       "      <th>4</th>\n",
       "      <td>4</td>\n",
       "      <td>5</td>\n",
       "      <td>0.2879</td>\n",
       "      <td>0.75</td>\n",
       "      <td>0.0000</td>\n",
       "      <td>0</td>\n",
       "      <td>1</td>\n",
       "      <td>1</td>\n",
       "    </tr>\n",
       "    <tr>\n",
       "      <th>...</th>\n",
       "      <td>...</td>\n",
       "      <td>...</td>\n",
       "      <td>...</td>\n",
       "      <td>...</td>\n",
       "      <td>...</td>\n",
       "      <td>...</td>\n",
       "      <td>...</td>\n",
       "      <td>...</td>\n",
       "    </tr>\n",
       "    <tr>\n",
       "      <th>605</th>\n",
       "      <td>605</td>\n",
       "      <td>606</td>\n",
       "      <td>0.2121</td>\n",
       "      <td>0.93</td>\n",
       "      <td>0.1045</td>\n",
       "      <td>0</td>\n",
       "      <td>30</td>\n",
       "      <td>30</td>\n",
       "    </tr>\n",
       "    <tr>\n",
       "      <th>606</th>\n",
       "      <td>606</td>\n",
       "      <td>607</td>\n",
       "      <td>0.2121</td>\n",
       "      <td>0.93</td>\n",
       "      <td>0.1045</td>\n",
       "      <td>1</td>\n",
       "      <td>28</td>\n",
       "      <td>29</td>\n",
       "    </tr>\n",
       "    <tr>\n",
       "      <th>607</th>\n",
       "      <td>607</td>\n",
       "      <td>608</td>\n",
       "      <td>0.2121</td>\n",
       "      <td>0.93</td>\n",
       "      <td>0.1045</td>\n",
       "      <td>0</td>\n",
       "      <td>31</td>\n",
       "      <td>31</td>\n",
       "    </tr>\n",
       "    <tr>\n",
       "      <th>608</th>\n",
       "      <td>608</td>\n",
       "      <td>609</td>\n",
       "      <td>0.2727</td>\n",
       "      <td>0.80</td>\n",
       "      <td>0.0000</td>\n",
       "      <td>2</td>\n",
       "      <td>36</td>\n",
       "      <td>38</td>\n",
       "    </tr>\n",
       "    <tr>\n",
       "      <th>609</th>\n",
       "      <td>609</td>\n",
       "      <td>610</td>\n",
       "      <td>0.2576</td>\n",
       "      <td>0.86</td>\n",
       "      <td>0.0000</td>\n",
       "      <td>1</td>\n",
       "      <td>40</td>\n",
       "      <td>41</td>\n",
       "    </tr>\n",
       "  </tbody>\n",
       "</table>\n",
       "<p>610 rows × 8 columns</p>\n",
       "</div>"
      ],
      "text/plain": [
       "     Unnamed: 0  instant   atemp   hum  windspeed  casual  registered  cnt\n",
       "0             0        1  0.2879  0.81     0.0000       3          13   16\n",
       "1             1        2  0.2727  0.80     0.0000       8          32   40\n",
       "2             2        3  0.2727  0.80     0.0000       5          27   32\n",
       "3             3        4  0.2879  0.75     0.0000       3          10   13\n",
       "4             4        5  0.2879  0.75     0.0000       0           1    1\n",
       "..          ...      ...     ...   ...        ...     ...         ...  ...\n",
       "605         605      606  0.2121  0.93     0.1045       0          30   30\n",
       "606         606      607  0.2121  0.93     0.1045       1          28   29\n",
       "607         607      608  0.2121  0.93     0.1045       0          31   31\n",
       "608         608      609  0.2727  0.80     0.0000       2          36   38\n",
       "609         609      610  0.2576  0.86     0.0000       1          40   41\n",
       "\n",
       "[610 rows x 8 columns]"
      ]
     },
     "execution_count": 9,
     "metadata": {},
     "output_type": "execute_result"
    }
   ],
   "source": [
    "df2 = pd.read_csv('dataset_2.csv')\n",
    "df2"
   ]
  },
  {
   "cell_type": "markdown",
   "id": "0e2576d0-3f93-4246-b17f-82d87e21f132",
   "metadata": {},
   "source": [
    "# Check for null values and data types of dataset_2"
   ]
  },
  {
   "cell_type": "code",
   "execution_count": 10,
   "id": "aa5bc883-ae48-4405-bbe0-a4f4cedf808d",
   "metadata": {},
   "outputs": [
    {
     "name": "stdout",
     "output_type": "stream",
     "text": [
      "<class 'pandas.core.frame.DataFrame'>\n",
      "RangeIndex: 610 entries, 0 to 609\n",
      "Data columns (total 8 columns):\n",
      " #   Column      Non-Null Count  Dtype  \n",
      "---  ------      --------------  -----  \n",
      " 0   Unnamed: 0  610 non-null    int64  \n",
      " 1   instant     610 non-null    int64  \n",
      " 2   atemp       599 non-null    float64\n",
      " 3   hum         610 non-null    float64\n",
      " 4   windspeed   610 non-null    float64\n",
      " 5   casual      610 non-null    int64  \n",
      " 6   registered  610 non-null    int64  \n",
      " 7   cnt         610 non-null    int64  \n",
      "dtypes: float64(3), int64(5)\n",
      "memory usage: 38.3 KB\n"
     ]
    }
   ],
   "source": [
    "df2.info()"
   ]
  },
  {
   "cell_type": "code",
   "execution_count": 11,
   "id": "c1166a97-71a2-4bf8-a315-4427435637ad",
   "metadata": {},
   "outputs": [
    {
     "data": {
      "text/plain": [
       "610"
      ]
     },
     "execution_count": 11,
     "metadata": {},
     "output_type": "execute_result"
    }
   ],
   "source": [
    "df2['Unnamed: 0'].nunique()"
   ]
  },
  {
   "cell_type": "code",
   "execution_count": 12,
   "id": "91abc0e0-d5fe-4661-b34f-42b06c93b2a8",
   "metadata": {},
   "outputs": [
    {
     "data": {
      "text/plain": [
       "610"
      ]
     },
     "execution_count": 12,
     "metadata": {},
     "output_type": "execute_result"
    }
   ],
   "source": [
    "df2['instant'].nunique()"
   ]
  },
  {
   "cell_type": "markdown",
   "id": "6abeb9e0-26e0-408d-9abb-850ca33e095e",
   "metadata": {},
   "source": [
    "# Delete unnamed column(extra index column)"
   ]
  },
  {
   "cell_type": "code",
   "execution_count": 13,
   "id": "dc57f2f4-32cf-4111-9233-51863eb43c17",
   "metadata": {},
   "outputs": [],
   "source": [
    "del df2['Unnamed: 0']"
   ]
  },
  {
   "cell_type": "markdown",
   "id": "d7e753a8-59d6-4079-8727-f7efe01cb809",
   "metadata": {},
   "source": [
    "# Calculate number of null values"
   ]
  },
  {
   "cell_type": "code",
   "execution_count": 14,
   "id": "b68e5c40-6df9-4a42-85eb-48eb66b11de6",
   "metadata": {},
   "outputs": [
    {
     "data": {
      "text/plain": [
       "instant        0\n",
       "atemp         11\n",
       "hum            0\n",
       "windspeed      0\n",
       "casual         0\n",
       "registered     0\n",
       "cnt            0\n",
       "dtype: int64"
      ]
     },
     "execution_count": 14,
     "metadata": {},
     "output_type": "execute_result"
    }
   ],
   "source": [
    "df2.isnull().sum()"
   ]
  },
  {
   "cell_type": "markdown",
   "id": "36f74263-4cb9-41fe-adc1-a2d06670a12e",
   "metadata": {},
   "source": [
    "# Generate histplot for atemp to check if data is normally distributed"
   ]
  },
  {
   "cell_type": "code",
   "execution_count": 15,
   "id": "c280b6ed-e4d8-4fc6-92b3-56055aef7781",
   "metadata": {},
   "outputs": [
    {
     "data": {
      "image/png": "[encoded data removed]",
      "text/plain": [
       "<Figure size 800x500 with 1 Axes>"
      ]
     },
     "metadata": {},
     "output_type": "display_data"
    }
   ],
   "source": [
    "plt.figure(figsize=(8, 5))\n",
    "sns.histplot(df2['atemp'], bins=20, kde=True, color='blue')\n",
    "plt.title('Distribution of atemp')\n",
    "plt.xlabel('atemp')\n",
    "plt.ylabel('Frequency')\n",
    "plt.show() "
   ]
  },
  {
   "cell_type": "markdown",
   "id": "eec4bf0e-dd44-493f-9f18-903abd6e1db8",
   "metadata": {},
   "source": [
    "### The distribution for atemp appears slightly skewed so fill null values with median"
   ]
  },
  {
   "cell_type": "code",
   "execution_count": 16,
   "id": "c922b145-cb9a-45cc-a579-027f2b3f60ab",
   "metadata": {},
   "outputs": [],
   "source": [
    "df2['atemp']=df2['atemp'].fillna(df2['atemp'].median())"
   ]
  },
  {
   "cell_type": "markdown",
   "id": "84388204-c0d0-46c2-8684-cce3d5c60398",
   "metadata": {},
   "source": [
    "# Check for any duplicate values in dataset_2"
   ]
  },
  {
   "cell_type": "code",
   "execution_count": 17,
   "id": "e543bec4-ea38-4d1e-859a-b1f873101ec8",
   "metadata": {},
   "outputs": [
    {
     "data": {
      "text/html": [
       "<div>\n",
       "<style scoped>\n",
       "    .dataframe tbody tr th:only-of-type {\n",
       "        vertical-align: middle;\n",
       "    }\n",
       "\n",
       "    .dataframe tbody tr th {\n",
       "        vertical-align: top;\n",
       "    }\n",
       "\n",
       "    .dataframe thead th {\n",
       "        text-align: right;\n",
       "    }\n",
       "</style>\n",
       "<table border=\"1\" class=\"dataframe\">\n",
       "  <thead>\n",
       "    <tr style=\"text-align: right;\">\n",
       "      <th></th>\n",
       "      <th>instant</th>\n",
       "      <th>atemp</th>\n",
       "      <th>hum</th>\n",
       "      <th>windspeed</th>\n",
       "      <th>casual</th>\n",
       "      <th>registered</th>\n",
       "      <th>cnt</th>\n",
       "    </tr>\n",
       "  </thead>\n",
       "  <tbody>\n",
       "  </tbody>\n",
       "</table>\n",
       "</div>"
      ],
      "text/plain": [
       "Empty DataFrame\n",
       "Columns: [instant, atemp, hum, windspeed, casual, registered, cnt]\n",
       "Index: []"
      ]
     },
     "execution_count": 17,
     "metadata": {},
     "output_type": "execute_result"
    }
   ],
   "source": [
    "df2[df2.duplicated()]"
   ]
  },
  {
   "cell_type": "markdown",
   "id": "ccae45ff-a430-4a1d-a6a5-cb4d8d49a5a1",
   "metadata": {},
   "source": [
    "### No duplicate values found"
   ]
  },
  {
   "cell_type": "markdown",
   "id": "d7b7a2d1-ccc1-47f3-87f4-5931c9861c1a",
   "metadata": {},
   "source": [
    "# Verify changes made to dataset_2 and check if data and values are accurate"
   ]
  },
  {
   "cell_type": "code",
   "execution_count": 18,
   "id": "bf77e8c3-fc1b-4719-9761-c570642fde43",
   "metadata": {},
   "outputs": [
    {
     "name": "stdout",
     "output_type": "stream",
     "text": [
      "<class 'pandas.core.frame.DataFrame'>\n",
      "RangeIndex: 610 entries, 0 to 609\n",
      "Data columns (total 7 columns):\n",
      " #   Column      Non-Null Count  Dtype  \n",
      "---  ------      --------------  -----  \n",
      " 0   instant     610 non-null    int64  \n",
      " 1   atemp       610 non-null    float64\n",
      " 2   hum         610 non-null    float64\n",
      " 3   windspeed   610 non-null    float64\n",
      " 4   casual      610 non-null    int64  \n",
      " 5   registered  610 non-null    int64  \n",
      " 6   cnt         610 non-null    int64  \n",
      "dtypes: float64(3), int64(4)\n",
      "memory usage: 33.5 KB\n"
     ]
    }
   ],
   "source": [
    "df2.info()"
   ]
  },
  {
   "cell_type": "markdown",
   "id": "cc129185-7861-4f7d-a7b6-193cf54a99a9",
   "metadata": {},
   "source": [
    "# Create a new dataset by merging dataset 1 and 2 using column instant which is common in both"
   ]
  },
  {
   "cell_type": "code",
   "execution_count": 19,
   "id": "3c7fad67-f577-4eac-ac6e-b96b6d6df2d3",
   "metadata": {},
   "outputs": [],
   "source": [
    "df_a = pd.merge(df1, df2, on='instant')"
   ]
  },
  {
   "cell_type": "markdown",
   "id": "b672d0c2-80a0-4330-8130-a7777ef82e0b",
   "metadata": {},
   "source": [
    "# Display new dataset"
   ]
  },
  {
   "cell_type": "code",
   "execution_count": 20,
   "id": "41ed4f86-e08f-404b-a2ba-84b9b6d02454",
   "metadata": {},
   "outputs": [
    {
     "data": {
      "text/html": [
       "<div>\n",
       "<style scoped>\n",
       "    .dataframe tbody tr th:only-of-type {\n",
       "        vertical-align: middle;\n",
       "    }\n",
       "\n",
       "    .dataframe tbody tr th {\n",
       "        vertical-align: top;\n",
       "    }\n",
       "\n",
       "    .dataframe thead th {\n",
       "        text-align: right;\n",
       "    }\n",
       "</style>\n",
       "<table border=\"1\" class=\"dataframe\">\n",
       "  <thead>\n",
       "    <tr style=\"text-align: right;\">\n",
       "      <th></th>\n",
       "      <th>instant</th>\n",
       "      <th>dteday</th>\n",
       "      <th>season</th>\n",
       "      <th>yr</th>\n",
       "      <th>mnth</th>\n",
       "      <th>hr</th>\n",
       "      <th>holiday</th>\n",
       "      <th>weekday</th>\n",
       "      <th>weathersit</th>\n",
       "      <th>temp</th>\n",
       "      <th>atemp</th>\n",
       "      <th>hum</th>\n",
       "      <th>windspeed</th>\n",
       "      <th>casual</th>\n",
       "      <th>registered</th>\n",
       "      <th>cnt</th>\n",
       "    </tr>\n",
       "  </thead>\n",
       "  <tbody>\n",
       "    <tr>\n",
       "      <th>0</th>\n",
       "      <td>1</td>\n",
       "      <td>2011-01-01</td>\n",
       "      <td>1</td>\n",
       "      <td>0</td>\n",
       "      <td>1</td>\n",
       "      <td>0</td>\n",
       "      <td>False</td>\n",
       "      <td>6</td>\n",
       "      <td>1</td>\n",
       "      <td>0.24</td>\n",
       "      <td>0.2879</td>\n",
       "      <td>0.81</td>\n",
       "      <td>0.0000</td>\n",
       "      <td>3</td>\n",
       "      <td>13</td>\n",
       "      <td>16</td>\n",
       "    </tr>\n",
       "    <tr>\n",
       "      <th>1</th>\n",
       "      <td>2</td>\n",
       "      <td>2011-01-01</td>\n",
       "      <td>1</td>\n",
       "      <td>0</td>\n",
       "      <td>1</td>\n",
       "      <td>1</td>\n",
       "      <td>False</td>\n",
       "      <td>6</td>\n",
       "      <td>1</td>\n",
       "      <td>0.22</td>\n",
       "      <td>0.2727</td>\n",
       "      <td>0.80</td>\n",
       "      <td>0.0000</td>\n",
       "      <td>8</td>\n",
       "      <td>32</td>\n",
       "      <td>40</td>\n",
       "    </tr>\n",
       "    <tr>\n",
       "      <th>2</th>\n",
       "      <td>3</td>\n",
       "      <td>2011-01-01</td>\n",
       "      <td>1</td>\n",
       "      <td>0</td>\n",
       "      <td>1</td>\n",
       "      <td>2</td>\n",
       "      <td>False</td>\n",
       "      <td>6</td>\n",
       "      <td>1</td>\n",
       "      <td>0.22</td>\n",
       "      <td>0.2727</td>\n",
       "      <td>0.80</td>\n",
       "      <td>0.0000</td>\n",
       "      <td>5</td>\n",
       "      <td>27</td>\n",
       "      <td>32</td>\n",
       "    </tr>\n",
       "    <tr>\n",
       "      <th>3</th>\n",
       "      <td>4</td>\n",
       "      <td>2011-01-01</td>\n",
       "      <td>1</td>\n",
       "      <td>0</td>\n",
       "      <td>1</td>\n",
       "      <td>3</td>\n",
       "      <td>False</td>\n",
       "      <td>6</td>\n",
       "      <td>1</td>\n",
       "      <td>0.24</td>\n",
       "      <td>0.2879</td>\n",
       "      <td>0.75</td>\n",
       "      <td>0.0000</td>\n",
       "      <td>3</td>\n",
       "      <td>10</td>\n",
       "      <td>13</td>\n",
       "    </tr>\n",
       "    <tr>\n",
       "      <th>4</th>\n",
       "      <td>5</td>\n",
       "      <td>2011-01-01</td>\n",
       "      <td>1</td>\n",
       "      <td>0</td>\n",
       "      <td>1</td>\n",
       "      <td>4</td>\n",
       "      <td>False</td>\n",
       "      <td>6</td>\n",
       "      <td>1</td>\n",
       "      <td>0.24</td>\n",
       "      <td>0.2879</td>\n",
       "      <td>0.75</td>\n",
       "      <td>0.0000</td>\n",
       "      <td>0</td>\n",
       "      <td>1</td>\n",
       "      <td>1</td>\n",
       "    </tr>\n",
       "    <tr>\n",
       "      <th>...</th>\n",
       "      <td>...</td>\n",
       "      <td>...</td>\n",
       "      <td>...</td>\n",
       "      <td>...</td>\n",
       "      <td>...</td>\n",
       "      <td>...</td>\n",
       "      <td>...</td>\n",
       "      <td>...</td>\n",
       "      <td>...</td>\n",
       "      <td>...</td>\n",
       "      <td>...</td>\n",
       "      <td>...</td>\n",
       "      <td>...</td>\n",
       "      <td>...</td>\n",
       "      <td>...</td>\n",
       "      <td>...</td>\n",
       "    </tr>\n",
       "    <tr>\n",
       "      <th>605</th>\n",
       "      <td>606</td>\n",
       "      <td>2011-01-28</td>\n",
       "      <td>1</td>\n",
       "      <td>0</td>\n",
       "      <td>1</td>\n",
       "      <td>11</td>\n",
       "      <td>False</td>\n",
       "      <td>5</td>\n",
       "      <td>3</td>\n",
       "      <td>0.18</td>\n",
       "      <td>0.2121</td>\n",
       "      <td>0.93</td>\n",
       "      <td>0.1045</td>\n",
       "      <td>0</td>\n",
       "      <td>30</td>\n",
       "      <td>30</td>\n",
       "    </tr>\n",
       "    <tr>\n",
       "      <th>606</th>\n",
       "      <td>607</td>\n",
       "      <td>2011-01-28</td>\n",
       "      <td>1</td>\n",
       "      <td>0</td>\n",
       "      <td>1</td>\n",
       "      <td>12</td>\n",
       "      <td>False</td>\n",
       "      <td>5</td>\n",
       "      <td>3</td>\n",
       "      <td>0.18</td>\n",
       "      <td>0.2121</td>\n",
       "      <td>0.93</td>\n",
       "      <td>0.1045</td>\n",
       "      <td>1</td>\n",
       "      <td>28</td>\n",
       "      <td>29</td>\n",
       "    </tr>\n",
       "    <tr>\n",
       "      <th>607</th>\n",
       "      <td>608</td>\n",
       "      <td>2011-01-28</td>\n",
       "      <td>1</td>\n",
       "      <td>0</td>\n",
       "      <td>1</td>\n",
       "      <td>13</td>\n",
       "      <td>False</td>\n",
       "      <td>5</td>\n",
       "      <td>3</td>\n",
       "      <td>0.18</td>\n",
       "      <td>0.2121</td>\n",
       "      <td>0.93</td>\n",
       "      <td>0.1045</td>\n",
       "      <td>0</td>\n",
       "      <td>31</td>\n",
       "      <td>31</td>\n",
       "    </tr>\n",
       "    <tr>\n",
       "      <th>608</th>\n",
       "      <td>609</td>\n",
       "      <td>2011-01-28</td>\n",
       "      <td>1</td>\n",
       "      <td>0</td>\n",
       "      <td>1</td>\n",
       "      <td>14</td>\n",
       "      <td>False</td>\n",
       "      <td>5</td>\n",
       "      <td>3</td>\n",
       "      <td>0.22</td>\n",
       "      <td>0.2727</td>\n",
       "      <td>0.80</td>\n",
       "      <td>0.0000</td>\n",
       "      <td>2</td>\n",
       "      <td>36</td>\n",
       "      <td>38</td>\n",
       "    </tr>\n",
       "    <tr>\n",
       "      <th>609</th>\n",
       "      <td>610</td>\n",
       "      <td>2011-01-28</td>\n",
       "      <td>1</td>\n",
       "      <td>0</td>\n",
       "      <td>1</td>\n",
       "      <td>15</td>\n",
       "      <td>False</td>\n",
       "      <td>5</td>\n",
       "      <td>2</td>\n",
       "      <td>0.20</td>\n",
       "      <td>0.2576</td>\n",
       "      <td>0.86</td>\n",
       "      <td>0.0000</td>\n",
       "      <td>1</td>\n",
       "      <td>40</td>\n",
       "      <td>41</td>\n",
       "    </tr>\n",
       "  </tbody>\n",
       "</table>\n",
       "<p>610 rows × 16 columns</p>\n",
       "</div>"
      ],
      "text/plain": [
       "     instant     dteday  season  yr  mnth  hr  holiday  weekday  weathersit  \\\n",
       "0          1 2011-01-01       1   0     1   0    False        6           1   \n",
       "1          2 2011-01-01       1   0     1   1    False        6           1   \n",
       "2          3 2011-01-01       1   0     1   2    False        6           1   \n",
       "3          4 2011-01-01       1   0     1   3    False        6           1   \n",
       "4          5 2011-01-01       1   0     1   4    False        6           1   \n",
       "..       ...        ...     ...  ..   ...  ..      ...      ...         ...   \n",
       "605      606 2011-01-28       1   0     1  11    False        5           3   \n",
       "606      607 2011-01-28       1   0     1  12    False        5           3   \n",
       "607      608 2011-01-28       1   0     1  13    False        5           3   \n",
       "608      609 2011-01-28       1   0     1  14    False        5           3   \n",
       "609      610 2011-01-28       1   0     1  15    False        5           2   \n",
       "\n",
       "     temp   atemp   hum  windspeed  casual  registered  cnt  \n",
       "0    0.24  0.2879  0.81     0.0000       3          13   16  \n",
       "1    0.22  0.2727  0.80     0.0000       8          32   40  \n",
       "2    0.22  0.2727  0.80     0.0000       5          27   32  \n",
       "3    0.24  0.2879  0.75     0.0000       3          10   13  \n",
       "4    0.24  0.2879  0.75     0.0000       0           1    1  \n",
       "..    ...     ...   ...        ...     ...         ...  ...  \n",
       "605  0.18  0.2121  0.93     0.1045       0          30   30  \n",
       "606  0.18  0.2121  0.93     0.1045       1          28   29  \n",
       "607  0.18  0.2121  0.93     0.1045       0          31   31  \n",
       "608  0.22  0.2727  0.80     0.0000       2          36   38  \n",
       "609  0.20  0.2576  0.86     0.0000       1          40   41  \n",
       "\n",
       "[610 rows x 16 columns]"
      ]
     },
     "execution_count": 20,
     "metadata": {},
     "output_type": "execute_result"
    }
   ],
   "source": [
    "df_a"
   ]
  },
  {
   "cell_type": "markdown",
   "id": "ddd57a7c-6c9c-45c8-9cb8-23e8825046ac",
   "metadata": {},
   "source": [
    "# Display new dataset info"
   ]
  },
  {
   "cell_type": "code",
   "execution_count": 21,
   "id": "3d4f9dd6-eb9d-4b9e-8da7-24e121eb3087",
   "metadata": {},
   "outputs": [
    {
     "name": "stdout",
     "output_type": "stream",
     "text": [
      "<class 'pandas.core.frame.DataFrame'>\n",
      "RangeIndex: 610 entries, 0 to 609\n",
      "Data columns (total 16 columns):\n",
      " #   Column      Non-Null Count  Dtype         \n",
      "---  ------      --------------  -----         \n",
      " 0   instant     610 non-null    int64         \n",
      " 1   dteday      610 non-null    datetime64[ns]\n",
      " 2   season      610 non-null    int64         \n",
      " 3   yr          610 non-null    int64         \n",
      " 4   mnth        610 non-null    int64         \n",
      " 5   hr          610 non-null    int64         \n",
      " 6   holiday     610 non-null    bool          \n",
      " 7   weekday     610 non-null    int64         \n",
      " 8   weathersit  610 non-null    int64         \n",
      " 9   temp        610 non-null    float64       \n",
      " 10  atemp       610 non-null    float64       \n",
      " 11  hum         610 non-null    float64       \n",
      " 12  windspeed   610 non-null    float64       \n",
      " 13  casual      610 non-null    int64         \n",
      " 14  registered  610 non-null    int64         \n",
      " 15  cnt         610 non-null    int64         \n",
      "dtypes: bool(1), datetime64[ns](1), float64(4), int64(10)\n",
      "memory usage: 72.2 KB\n"
     ]
    }
   ],
   "source": [
    "df_a.info()"
   ]
  },
  {
   "cell_type": "markdown",
   "id": "fda08e1e-93f4-4480-98c5-b3ba0cceb211",
   "metadata": {},
   "source": [
    "# Save the new merged dataset as dataset_a.csv"
   ]
  },
  {
   "cell_type": "code",
   "execution_count": 22,
   "id": "b2d31fdf-9fab-4a1e-90d0-a9729a885648",
   "metadata": {},
   "outputs": [],
   "source": [
    "df_a.to_csv('dataset_a.csv', index=False)"
   ]
  }
 ],
 "metadata": {
  "kernelspec": {
   "display_name": "Python 3 (ipykernel)",
   "language": "python",
   "name": "python3"
  },
  "language_info": {
   "codemirror_mode": {
    "name": "ipython",
    "version": 3
   },
   "file_extension": ".py",
   "mimetype": "text/x-python",
   "name": "python",
   "nbconvert_exporter": "python",
   "pygments_lexer": "ipython3",
   "version": "3.12.7"
  }
 },
 "nbformat": 4,
 "nbformat_minor": 5
}
